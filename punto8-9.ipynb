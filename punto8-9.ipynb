{
 "cells": [
  {
   "cell_type": "code",
   "execution_count": 1,
   "metadata": {},
   "outputs": [],
   "source": [
    "import pandas as pd\n",
    "from sklearn.metrics import confusion_matrix\n",
    "import numpy as np\n",
    "from operator import itemgetter\n",
    "import matplotlib.pyplot as plt\n",
    "from scipy.spatial import distance"
   ]
  },
  {
   "cell_type": "code",
   "execution_count": 2,
   "metadata": {},
   "outputs": [
    {
     "output_type": "execute_result",
     "data": {
      "text/plain": "      0       1       2       3       4       5       6       7       8    \\\n0  196307  2.1276 -2.3370 -1.2280 -2.6984 -1.7699  2.2134 -4.5496 -1.6598   \n1  196308  4.8658  6.0631  0.1639  7.2770  1.1769  2.3169  0.7068  1.3503   \n2  196309 -0.9962 -2.3301 -0.5921 -2.5245 -1.8076  0.8903  1.9394  1.1314   \n3  196310  0.6441  2.1924  2.9654 -2.0956 -1.7827  4.8031  0.7487  3.9617   \n4  196311 -3.6040 -3.4157  2.1402 -1.5655 -2.2487 -5.1347 -3.8505 -4.0434   \n\n      9    ...     91      92      93      94      95      96      97   \\\n0 -2.2403  ... -2.7823  0.2251 -0.8488  1.1879  3.0036  0.5386  0.6380   \n1 -0.3678  ...  5.0300  7.0651  6.5539  4.9193  5.9252  4.7108  4.0692   \n2 -3.3908  ... -0.2978 -1.2447 -0.5466 -1.1210 -3.2242 -2.8977  0.1279   \n3 -0.3635  ...  2.6970  1.0780  0.7655  1.5320  0.4140  0.2659  3.5241   \n4 -2.6483  ...  2.3890 -1.1899 -1.7024 -0.8322 -1.9991 -0.7021  2.2096   \n\n      98       99       100  \n0 -0.4006   1.0496   3.9856  \n1  5.4019   6.5694   8.2962  \n2  1.1137  -0.5205  -1.8119  \n3  6.5133  11.3120  11.4192  \n4 -1.3830  -6.5086   2.4425  \n\n[5 rows x 101 columns]",
      "text/html": "<div>\n<style scoped>\n    .dataframe tbody tr th:only-of-type {\n        vertical-align: middle;\n    }\n\n    .dataframe tbody tr th {\n        vertical-align: top;\n    }\n\n    .dataframe thead th {\n        text-align: right;\n    }\n</style>\n<table border=\"1\" class=\"dataframe\">\n  <thead>\n    <tr style=\"text-align: right;\">\n      <th></th>\n      <th>0</th>\n      <th>1</th>\n      <th>2</th>\n      <th>3</th>\n      <th>4</th>\n      <th>5</th>\n      <th>6</th>\n      <th>7</th>\n      <th>8</th>\n      <th>9</th>\n      <th>...</th>\n      <th>91</th>\n      <th>92</th>\n      <th>93</th>\n      <th>94</th>\n      <th>95</th>\n      <th>96</th>\n      <th>97</th>\n      <th>98</th>\n      <th>99</th>\n      <th>100</th>\n    </tr>\n  </thead>\n  <tbody>\n    <tr>\n      <th>0</th>\n      <td>196307</td>\n      <td>2.1276</td>\n      <td>-2.3370</td>\n      <td>-1.2280</td>\n      <td>-2.6984</td>\n      <td>-1.7699</td>\n      <td>2.2134</td>\n      <td>-4.5496</td>\n      <td>-1.6598</td>\n      <td>-2.2403</td>\n      <td>...</td>\n      <td>-2.7823</td>\n      <td>0.2251</td>\n      <td>-0.8488</td>\n      <td>1.1879</td>\n      <td>3.0036</td>\n      <td>0.5386</td>\n      <td>0.6380</td>\n      <td>-0.4006</td>\n      <td>1.0496</td>\n      <td>3.9856</td>\n    </tr>\n    <tr>\n      <th>1</th>\n      <td>196308</td>\n      <td>4.8658</td>\n      <td>6.0631</td>\n      <td>0.1639</td>\n      <td>7.2770</td>\n      <td>1.1769</td>\n      <td>2.3169</td>\n      <td>0.7068</td>\n      <td>1.3503</td>\n      <td>-0.3678</td>\n      <td>...</td>\n      <td>5.0300</td>\n      <td>7.0651</td>\n      <td>6.5539</td>\n      <td>4.9193</td>\n      <td>5.9252</td>\n      <td>4.7108</td>\n      <td>4.0692</td>\n      <td>5.4019</td>\n      <td>6.5694</td>\n      <td>8.2962</td>\n    </tr>\n    <tr>\n      <th>2</th>\n      <td>196309</td>\n      <td>-0.9962</td>\n      <td>-2.3301</td>\n      <td>-0.5921</td>\n      <td>-2.5245</td>\n      <td>-1.8076</td>\n      <td>0.8903</td>\n      <td>1.9394</td>\n      <td>1.1314</td>\n      <td>-3.3908</td>\n      <td>...</td>\n      <td>-0.2978</td>\n      <td>-1.2447</td>\n      <td>-0.5466</td>\n      <td>-1.1210</td>\n      <td>-3.2242</td>\n      <td>-2.8977</td>\n      <td>0.1279</td>\n      <td>1.1137</td>\n      <td>-0.5205</td>\n      <td>-1.8119</td>\n    </tr>\n    <tr>\n      <th>3</th>\n      <td>196310</td>\n      <td>0.6441</td>\n      <td>2.1924</td>\n      <td>2.9654</td>\n      <td>-2.0956</td>\n      <td>-1.7827</td>\n      <td>4.8031</td>\n      <td>0.7487</td>\n      <td>3.9617</td>\n      <td>-0.3635</td>\n      <td>...</td>\n      <td>2.6970</td>\n      <td>1.0780</td>\n      <td>0.7655</td>\n      <td>1.5320</td>\n      <td>0.4140</td>\n      <td>0.2659</td>\n      <td>3.5241</td>\n      <td>6.5133</td>\n      <td>11.3120</td>\n      <td>11.4192</td>\n    </tr>\n    <tr>\n      <th>4</th>\n      <td>196311</td>\n      <td>-3.6040</td>\n      <td>-3.4157</td>\n      <td>2.1402</td>\n      <td>-1.5655</td>\n      <td>-2.2487</td>\n      <td>-5.1347</td>\n      <td>-3.8505</td>\n      <td>-4.0434</td>\n      <td>-2.6483</td>\n      <td>...</td>\n      <td>2.3890</td>\n      <td>-1.1899</td>\n      <td>-1.7024</td>\n      <td>-0.8322</td>\n      <td>-1.9991</td>\n      <td>-0.7021</td>\n      <td>2.2096</td>\n      <td>-1.3830</td>\n      <td>-6.5086</td>\n      <td>2.4425</td>\n    </tr>\n  </tbody>\n</table>\n<p>5 rows × 101 columns</p>\n</div>"
     },
     "metadata": {},
     "execution_count": 2
    }
   ],
   "source": [
    "df = pd.read_fwf(\"portfolio100.txt\", header=None)\n",
    "df.head()"
   ]
  },
  {
   "cell_type": "markdown",
   "metadata": {},
   "source": [
    "# Punto 8"
   ]
  },
  {
   "cell_type": "code",
   "execution_count": 3,
   "metadata": {},
   "outputs": [
    {
     "output_type": "execute_result",
     "data": {
      "text/plain": "        0       1       2       3       4       5       6       7       8  \\\n0  196307  2.1276 -2.3370 -1.2280 -2.6984 -1.7699  2.2134 -4.5496 -1.6598   \n1  196308  4.8658  6.0631  0.1639  7.2770  1.1769  2.3169  0.7068  1.3503   \n2  196309 -0.9962 -2.3301 -0.5921 -2.5245 -1.8076  0.8903  1.9394  1.1314   \n\n        9  ...      92      93      94      95      96      97      98  \\\n0 -2.2403  ...  0.2251 -0.8488  1.1879  3.0036  0.5386  0.6380 -0.4006   \n1 -0.3678  ...  7.0651  6.5539  4.9193  5.9252  4.7108  4.0692  5.4019   \n2 -3.3908  ... -1.2447 -0.5466 -1.1210 -3.2242 -2.8977  0.1279  1.1137   \n\n       99     100     media  \n0  1.0496  3.9856 -0.714506  \n1  6.5694  8.2962  5.029534  \n2 -0.5205 -1.8119 -1.859055  \n\n[3 rows x 102 columns]",
      "text/html": "<div>\n<style scoped>\n    .dataframe tbody tr th:only-of-type {\n        vertical-align: middle;\n    }\n\n    .dataframe tbody tr th {\n        vertical-align: top;\n    }\n\n    .dataframe thead th {\n        text-align: right;\n    }\n</style>\n<table border=\"1\" class=\"dataframe\">\n  <thead>\n    <tr style=\"text-align: right;\">\n      <th></th>\n      <th>0</th>\n      <th>1</th>\n      <th>2</th>\n      <th>3</th>\n      <th>4</th>\n      <th>5</th>\n      <th>6</th>\n      <th>7</th>\n      <th>8</th>\n      <th>9</th>\n      <th>...</th>\n      <th>92</th>\n      <th>93</th>\n      <th>94</th>\n      <th>95</th>\n      <th>96</th>\n      <th>97</th>\n      <th>98</th>\n      <th>99</th>\n      <th>100</th>\n      <th>media</th>\n    </tr>\n  </thead>\n  <tbody>\n    <tr>\n      <th>0</th>\n      <td>196307</td>\n      <td>2.1276</td>\n      <td>-2.3370</td>\n      <td>-1.2280</td>\n      <td>-2.6984</td>\n      <td>-1.7699</td>\n      <td>2.2134</td>\n      <td>-4.5496</td>\n      <td>-1.6598</td>\n      <td>-2.2403</td>\n      <td>...</td>\n      <td>0.2251</td>\n      <td>-0.8488</td>\n      <td>1.1879</td>\n      <td>3.0036</td>\n      <td>0.5386</td>\n      <td>0.6380</td>\n      <td>-0.4006</td>\n      <td>1.0496</td>\n      <td>3.9856</td>\n      <td>-0.714506</td>\n    </tr>\n    <tr>\n      <th>1</th>\n      <td>196308</td>\n      <td>4.8658</td>\n      <td>6.0631</td>\n      <td>0.1639</td>\n      <td>7.2770</td>\n      <td>1.1769</td>\n      <td>2.3169</td>\n      <td>0.7068</td>\n      <td>1.3503</td>\n      <td>-0.3678</td>\n      <td>...</td>\n      <td>7.0651</td>\n      <td>6.5539</td>\n      <td>4.9193</td>\n      <td>5.9252</td>\n      <td>4.7108</td>\n      <td>4.0692</td>\n      <td>5.4019</td>\n      <td>6.5694</td>\n      <td>8.2962</td>\n      <td>5.029534</td>\n    </tr>\n    <tr>\n      <th>2</th>\n      <td>196309</td>\n      <td>-0.9962</td>\n      <td>-2.3301</td>\n      <td>-0.5921</td>\n      <td>-2.5245</td>\n      <td>-1.8076</td>\n      <td>0.8903</td>\n      <td>1.9394</td>\n      <td>1.1314</td>\n      <td>-3.3908</td>\n      <td>...</td>\n      <td>-1.2447</td>\n      <td>-0.5466</td>\n      <td>-1.1210</td>\n      <td>-3.2242</td>\n      <td>-2.8977</td>\n      <td>0.1279</td>\n      <td>1.1137</td>\n      <td>-0.5205</td>\n      <td>-1.8119</td>\n      <td>-1.859055</td>\n    </tr>\n  </tbody>\n</table>\n<p>3 rows × 102 columns</p>\n</div>"
     },
     "metadata": {},
     "execution_count": 3
    }
   ],
   "source": [
    "df['media'] = df.drop([0], axis=1).mean(axis=1)\n",
    "df.head(3)"
   ]
  },
  {
   "cell_type": "code",
   "execution_count": 4,
   "metadata": {},
   "outputs": [
    {
     "output_type": "execute_result",
     "data": {
      "text/plain": "        0       1       2       3       4       5       6       7       8  \\\n0  196307  2.1276 -2.3370 -1.2280 -2.6984 -1.7699  2.2134 -4.5496 -1.6598   \n1  196308  4.8658  6.0631  0.1639  7.2770  1.1769  2.3169  0.7068  1.3503   \n2  196309 -0.9962 -2.3301 -0.5921 -2.5245 -1.8076  0.8903  1.9394  1.1314   \n\n        9  ...      93      94      95      96      97      98      99  \\\n0 -2.2403  ... -0.8488  1.1879  3.0036  0.5386  0.6380 -0.4006  1.0496   \n1 -0.3678  ...  6.5539  4.9193  5.9252  4.7108  4.0692  5.4019  6.5694   \n2 -3.3908  ... -0.5466 -1.1210 -3.2242 -2.8977  0.1279  1.1137 -0.5205   \n\n      100     media  media_binaria  \n0  3.9856 -0.714506              0  \n1  8.2962  5.029534              1  \n2 -1.8119 -1.859055              0  \n\n[3 rows x 103 columns]",
      "text/html": "<div>\n<style scoped>\n    .dataframe tbody tr th:only-of-type {\n        vertical-align: middle;\n    }\n\n    .dataframe tbody tr th {\n        vertical-align: top;\n    }\n\n    .dataframe thead th {\n        text-align: right;\n    }\n</style>\n<table border=\"1\" class=\"dataframe\">\n  <thead>\n    <tr style=\"text-align: right;\">\n      <th></th>\n      <th>0</th>\n      <th>1</th>\n      <th>2</th>\n      <th>3</th>\n      <th>4</th>\n      <th>5</th>\n      <th>6</th>\n      <th>7</th>\n      <th>8</th>\n      <th>9</th>\n      <th>...</th>\n      <th>93</th>\n      <th>94</th>\n      <th>95</th>\n      <th>96</th>\n      <th>97</th>\n      <th>98</th>\n      <th>99</th>\n      <th>100</th>\n      <th>media</th>\n      <th>media_binaria</th>\n    </tr>\n  </thead>\n  <tbody>\n    <tr>\n      <th>0</th>\n      <td>196307</td>\n      <td>2.1276</td>\n      <td>-2.3370</td>\n      <td>-1.2280</td>\n      <td>-2.6984</td>\n      <td>-1.7699</td>\n      <td>2.2134</td>\n      <td>-4.5496</td>\n      <td>-1.6598</td>\n      <td>-2.2403</td>\n      <td>...</td>\n      <td>-0.8488</td>\n      <td>1.1879</td>\n      <td>3.0036</td>\n      <td>0.5386</td>\n      <td>0.6380</td>\n      <td>-0.4006</td>\n      <td>1.0496</td>\n      <td>3.9856</td>\n      <td>-0.714506</td>\n      <td>0</td>\n    </tr>\n    <tr>\n      <th>1</th>\n      <td>196308</td>\n      <td>4.8658</td>\n      <td>6.0631</td>\n      <td>0.1639</td>\n      <td>7.2770</td>\n      <td>1.1769</td>\n      <td>2.3169</td>\n      <td>0.7068</td>\n      <td>1.3503</td>\n      <td>-0.3678</td>\n      <td>...</td>\n      <td>6.5539</td>\n      <td>4.9193</td>\n      <td>5.9252</td>\n      <td>4.7108</td>\n      <td>4.0692</td>\n      <td>5.4019</td>\n      <td>6.5694</td>\n      <td>8.2962</td>\n      <td>5.029534</td>\n      <td>1</td>\n    </tr>\n    <tr>\n      <th>2</th>\n      <td>196309</td>\n      <td>-0.9962</td>\n      <td>-2.3301</td>\n      <td>-0.5921</td>\n      <td>-2.5245</td>\n      <td>-1.8076</td>\n      <td>0.8903</td>\n      <td>1.9394</td>\n      <td>1.1314</td>\n      <td>-3.3908</td>\n      <td>...</td>\n      <td>-0.5466</td>\n      <td>-1.1210</td>\n      <td>-3.2242</td>\n      <td>-2.8977</td>\n      <td>0.1279</td>\n      <td>1.1137</td>\n      <td>-0.5205</td>\n      <td>-1.8119</td>\n      <td>-1.859055</td>\n      <td>0</td>\n    </tr>\n  </tbody>\n</table>\n<p>3 rows × 103 columns</p>\n</div>"
     },
     "metadata": {},
     "execution_count": 4
    }
   ],
   "source": [
    "df['media_binaria'] = df['media'].transform(lambda x: 1 if x >= 0 else 0)\n",
    "df.head(3)"
   ]
  },
  {
   "cell_type": "code",
   "execution_count": 5,
   "metadata": {},
   "outputs": [
    {
     "output_type": "execute_result",
     "data": {
      "text/plain": "   1  2  3  4  5  6  7  8  9  10  ...  92  93  94  95  96  97  98  99  100  \\\n0  1  0  0  0  0  1  0  0  0   1  ...   1   0   1   1   1   1   0   1    1   \n1  1  1  1  1  1  1  1  1  0   1  ...   1   1   1   1   1   1   1   1    1   \n2  0  0  0  0  0  1  1  1  0   0  ...   0   0   0   0   0   1   1   0    0   \n\n   media_binaria  \n0              0  \n1              1  \n2              0  \n\n[3 rows x 101 columns]",
      "text/html": "<div>\n<style scoped>\n    .dataframe tbody tr th:only-of-type {\n        vertical-align: middle;\n    }\n\n    .dataframe tbody tr th {\n        vertical-align: top;\n    }\n\n    .dataframe thead th {\n        text-align: right;\n    }\n</style>\n<table border=\"1\" class=\"dataframe\">\n  <thead>\n    <tr style=\"text-align: right;\">\n      <th></th>\n      <th>1</th>\n      <th>2</th>\n      <th>3</th>\n      <th>4</th>\n      <th>5</th>\n      <th>6</th>\n      <th>7</th>\n      <th>8</th>\n      <th>9</th>\n      <th>10</th>\n      <th>...</th>\n      <th>92</th>\n      <th>93</th>\n      <th>94</th>\n      <th>95</th>\n      <th>96</th>\n      <th>97</th>\n      <th>98</th>\n      <th>99</th>\n      <th>100</th>\n      <th>media_binaria</th>\n    </tr>\n  </thead>\n  <tbody>\n    <tr>\n      <th>0</th>\n      <td>1</td>\n      <td>0</td>\n      <td>0</td>\n      <td>0</td>\n      <td>0</td>\n      <td>1</td>\n      <td>0</td>\n      <td>0</td>\n      <td>0</td>\n      <td>1</td>\n      <td>...</td>\n      <td>1</td>\n      <td>0</td>\n      <td>1</td>\n      <td>1</td>\n      <td>1</td>\n      <td>1</td>\n      <td>0</td>\n      <td>1</td>\n      <td>1</td>\n      <td>0</td>\n    </tr>\n    <tr>\n      <th>1</th>\n      <td>1</td>\n      <td>1</td>\n      <td>1</td>\n      <td>1</td>\n      <td>1</td>\n      <td>1</td>\n      <td>1</td>\n      <td>1</td>\n      <td>0</td>\n      <td>1</td>\n      <td>...</td>\n      <td>1</td>\n      <td>1</td>\n      <td>1</td>\n      <td>1</td>\n      <td>1</td>\n      <td>1</td>\n      <td>1</td>\n      <td>1</td>\n      <td>1</td>\n      <td>1</td>\n    </tr>\n    <tr>\n      <th>2</th>\n      <td>0</td>\n      <td>0</td>\n      <td>0</td>\n      <td>0</td>\n      <td>0</td>\n      <td>1</td>\n      <td>1</td>\n      <td>1</td>\n      <td>0</td>\n      <td>0</td>\n      <td>...</td>\n      <td>0</td>\n      <td>0</td>\n      <td>0</td>\n      <td>0</td>\n      <td>0</td>\n      <td>1</td>\n      <td>1</td>\n      <td>0</td>\n      <td>0</td>\n      <td>0</td>\n    </tr>\n  </tbody>\n</table>\n<p>3 rows × 101 columns</p>\n</div>"
     },
     "metadata": {},
     "execution_count": 5
    }
   ],
   "source": [
    "df_binaria = df.drop([0, 'media_binaria', 'media'], axis=1).applymap(lambda x: 1 if x >= 0 else 0)\n",
    "df_binaria['media_binaria'] = df['media_binaria']\n",
    "df_binaria.head(3)"
   ]
  },
  {
   "cell_type": "code",
   "execution_count": 6,
   "metadata": {},
   "outputs": [],
   "source": [
    "metricas = pd.DataFrame(columns=['Jaccard','Dice','Pearson'])\n",
    "for i in range(1, 101):\n",
    "    cm = confusion_matrix(df_binaria['media_binaria'], df_binaria[i])\n",
    "    a = cm[0][0]\n",
    "    b = cm[0][1]\n",
    "    c = cm[1][0]\n",
    "    d = cm[1][1]\n",
    "    jaccard  = a/(a+b+c)\n",
    "    dice = 2*a / (2*a+b+c)\n",
    "    pearson = (a*d - b*c) / (np.sqrt((a+c)*(b+d)*(a+b)*(c+d)))\n",
    "    metricas.loc[i] = [jaccard , dice , pearson]"
   ]
  },
  {
   "cell_type": "code",
   "execution_count": 7,
   "metadata": {
    "tags": []
   },
   "outputs": [
    {
     "output_type": "stream",
     "name": "stdout",
     "text": "10 Mas parecidos\n"
    },
    {
     "output_type": "execute_result",
     "data": {
      "text/plain": "<pandas.io.formats.style.Styler at 0x1a12412358>",
      "text/html": "<style  type=\"text/css\" >\n</style><table id=\"T_a688f502_eec6_11ea_91a9_38f9d36abfc2\" ><thead>    <tr>        <th class=\"col_heading level0 col0\" >dice_metric</th>        <th class=\"col_heading level0 col1\" >pearson_metric</th>        <th class=\"col_heading level0 col2\" >jaccard_metric</th>    </tr></thead><tbody>\n                <tr>\n                                <td id=\"T_a688f502_eec6_11ea_91a9_38f9d36abfc2row0_col0\" class=\"data row0 col0\" >29</td>\n                        <td id=\"T_a688f502_eec6_11ea_91a9_38f9d36abfc2row0_col1\" class=\"data row0 col1\" >57</td>\n                        <td id=\"T_a688f502_eec6_11ea_91a9_38f9d36abfc2row0_col2\" class=\"data row0 col2\" >29</td>\n            </tr>\n            <tr>\n                                <td id=\"T_a688f502_eec6_11ea_91a9_38f9d36abfc2row1_col0\" class=\"data row1 col0\" >57</td>\n                        <td id=\"T_a688f502_eec6_11ea_91a9_38f9d36abfc2row1_col1\" class=\"data row1 col1\" >29</td>\n                        <td id=\"T_a688f502_eec6_11ea_91a9_38f9d36abfc2row1_col2\" class=\"data row1 col2\" >57</td>\n            </tr>\n            <tr>\n                                <td id=\"T_a688f502_eec6_11ea_91a9_38f9d36abfc2row2_col0\" class=\"data row2 col0\" >58</td>\n                        <td id=\"T_a688f502_eec6_11ea_91a9_38f9d36abfc2row2_col1\" class=\"data row2 col1\" >58</td>\n                        <td id=\"T_a688f502_eec6_11ea_91a9_38f9d36abfc2row2_col2\" class=\"data row2 col2\" >58</td>\n            </tr>\n            <tr>\n                                <td id=\"T_a688f502_eec6_11ea_91a9_38f9d36abfc2row3_col0\" class=\"data row3 col0\" >38</td>\n                        <td id=\"T_a688f502_eec6_11ea_91a9_38f9d36abfc2row3_col1\" class=\"data row3 col1\" >38</td>\n                        <td id=\"T_a688f502_eec6_11ea_91a9_38f9d36abfc2row3_col2\" class=\"data row3 col2\" >38</td>\n            </tr>\n            <tr>\n                                <td id=\"T_a688f502_eec6_11ea_91a9_38f9d36abfc2row4_col0\" class=\"data row4 col0\" >28</td>\n                        <td id=\"T_a688f502_eec6_11ea_91a9_38f9d36abfc2row4_col1\" class=\"data row4 col1\" >27</td>\n                        <td id=\"T_a688f502_eec6_11ea_91a9_38f9d36abfc2row4_col2\" class=\"data row4 col2\" >28</td>\n            </tr>\n            <tr>\n                                <td id=\"T_a688f502_eec6_11ea_91a9_38f9d36abfc2row5_col0\" class=\"data row5 col0\" >27</td>\n                        <td id=\"T_a688f502_eec6_11ea_91a9_38f9d36abfc2row5_col1\" class=\"data row5 col1\" >50</td>\n                        <td id=\"T_a688f502_eec6_11ea_91a9_38f9d36abfc2row5_col2\" class=\"data row5 col2\" >27</td>\n            </tr>\n            <tr>\n                                <td id=\"T_a688f502_eec6_11ea_91a9_38f9d36abfc2row6_col0\" class=\"data row6 col0\" >50</td>\n                        <td id=\"T_a688f502_eec6_11ea_91a9_38f9d36abfc2row6_col1\" class=\"data row6 col1\" >28</td>\n                        <td id=\"T_a688f502_eec6_11ea_91a9_38f9d36abfc2row6_col2\" class=\"data row6 col2\" >50</td>\n            </tr>\n            <tr>\n                                <td id=\"T_a688f502_eec6_11ea_91a9_38f9d36abfc2row7_col0\" class=\"data row7 col0\" >49</td>\n                        <td id=\"T_a688f502_eec6_11ea_91a9_38f9d36abfc2row7_col1\" class=\"data row7 col1\" >49</td>\n                        <td id=\"T_a688f502_eec6_11ea_91a9_38f9d36abfc2row7_col2\" class=\"data row7 col2\" >49</td>\n            </tr>\n            <tr>\n                                <td id=\"T_a688f502_eec6_11ea_91a9_38f9d36abfc2row8_col0\" class=\"data row8 col0\" >30</td>\n                        <td id=\"T_a688f502_eec6_11ea_91a9_38f9d36abfc2row8_col1\" class=\"data row8 col1\" >30</td>\n                        <td id=\"T_a688f502_eec6_11ea_91a9_38f9d36abfc2row8_col2\" class=\"data row8 col2\" >30</td>\n            </tr>\n            <tr>\n                                <td id=\"T_a688f502_eec6_11ea_91a9_38f9d36abfc2row9_col0\" class=\"data row9 col0\" >39</td>\n                        <td id=\"T_a688f502_eec6_11ea_91a9_38f9d36abfc2row9_col1\" class=\"data row9 col1\" >39</td>\n                        <td id=\"T_a688f502_eec6_11ea_91a9_38f9d36abfc2row9_col2\" class=\"data row9 col2\" >39</td>\n            </tr>\n    </tbody></table>"
     },
     "metadata": {},
     "execution_count": 7
    }
   ],
   "source": [
    "metricas['dice_metric'] = metricas.sort_values(by = ['Dice'])['Dice'].index\n",
    "metricas['pearson_metric'] = metricas.sort_values(by = ['Pearson'])['Pearson'].index\n",
    "metricas['jaccard_metric'] = metricas.sort_values(by = ['Jaccard'])['Jaccard'].index\n",
    "\n",
    "print('10 Mas parecidos')\n",
    "metricas.drop(columns=['Jaccard','Dice','Pearson']).tail(10).style.hide_index()\n",
    "\n"
   ]
  },
  {
   "cell_type": "code",
   "execution_count": 8,
   "metadata": {
    "tags": []
   },
   "outputs": [
    {
     "output_type": "stream",
     "name": "stdout",
     "text": "\n10 Menos parecidoss\n"
    },
    {
     "output_type": "execute_result",
     "data": {
      "text/plain": "<pandas.io.formats.style.Styler at 0x1a12568d30>",
      "text/html": "<style  type=\"text/css\" >\n</style><table id=\"T_a69a6864_eec6_11ea_91a9_38f9d36abfc2\" ><thead>    <tr>        <th class=\"col_heading level0 col0\" >dice_metric</th>        <th class=\"col_heading level0 col1\" >pearson_metric</th>        <th class=\"col_heading level0 col2\" >jaccard_metric</th>    </tr></thead><tbody>\n                <tr>\n                                <td id=\"T_a69a6864_eec6_11ea_91a9_38f9d36abfc2row0_col0\" class=\"data row0 col0\" >29</td>\n                        <td id=\"T_a69a6864_eec6_11ea_91a9_38f9d36abfc2row0_col1\" class=\"data row0 col1\" >57</td>\n                        <td id=\"T_a69a6864_eec6_11ea_91a9_38f9d36abfc2row0_col2\" class=\"data row0 col2\" >29</td>\n            </tr>\n            <tr>\n                                <td id=\"T_a69a6864_eec6_11ea_91a9_38f9d36abfc2row1_col0\" class=\"data row1 col0\" >57</td>\n                        <td id=\"T_a69a6864_eec6_11ea_91a9_38f9d36abfc2row1_col1\" class=\"data row1 col1\" >29</td>\n                        <td id=\"T_a69a6864_eec6_11ea_91a9_38f9d36abfc2row1_col2\" class=\"data row1 col2\" >57</td>\n            </tr>\n            <tr>\n                                <td id=\"T_a69a6864_eec6_11ea_91a9_38f9d36abfc2row2_col0\" class=\"data row2 col0\" >58</td>\n                        <td id=\"T_a69a6864_eec6_11ea_91a9_38f9d36abfc2row2_col1\" class=\"data row2 col1\" >58</td>\n                        <td id=\"T_a69a6864_eec6_11ea_91a9_38f9d36abfc2row2_col2\" class=\"data row2 col2\" >58</td>\n            </tr>\n            <tr>\n                                <td id=\"T_a69a6864_eec6_11ea_91a9_38f9d36abfc2row3_col0\" class=\"data row3 col0\" >38</td>\n                        <td id=\"T_a69a6864_eec6_11ea_91a9_38f9d36abfc2row3_col1\" class=\"data row3 col1\" >38</td>\n                        <td id=\"T_a69a6864_eec6_11ea_91a9_38f9d36abfc2row3_col2\" class=\"data row3 col2\" >38</td>\n            </tr>\n            <tr>\n                                <td id=\"T_a69a6864_eec6_11ea_91a9_38f9d36abfc2row4_col0\" class=\"data row4 col0\" >28</td>\n                        <td id=\"T_a69a6864_eec6_11ea_91a9_38f9d36abfc2row4_col1\" class=\"data row4 col1\" >27</td>\n                        <td id=\"T_a69a6864_eec6_11ea_91a9_38f9d36abfc2row4_col2\" class=\"data row4 col2\" >28</td>\n            </tr>\n            <tr>\n                                <td id=\"T_a69a6864_eec6_11ea_91a9_38f9d36abfc2row5_col0\" class=\"data row5 col0\" >27</td>\n                        <td id=\"T_a69a6864_eec6_11ea_91a9_38f9d36abfc2row5_col1\" class=\"data row5 col1\" >50</td>\n                        <td id=\"T_a69a6864_eec6_11ea_91a9_38f9d36abfc2row5_col2\" class=\"data row5 col2\" >27</td>\n            </tr>\n            <tr>\n                                <td id=\"T_a69a6864_eec6_11ea_91a9_38f9d36abfc2row6_col0\" class=\"data row6 col0\" >50</td>\n                        <td id=\"T_a69a6864_eec6_11ea_91a9_38f9d36abfc2row6_col1\" class=\"data row6 col1\" >28</td>\n                        <td id=\"T_a69a6864_eec6_11ea_91a9_38f9d36abfc2row6_col2\" class=\"data row6 col2\" >50</td>\n            </tr>\n            <tr>\n                                <td id=\"T_a69a6864_eec6_11ea_91a9_38f9d36abfc2row7_col0\" class=\"data row7 col0\" >49</td>\n                        <td id=\"T_a69a6864_eec6_11ea_91a9_38f9d36abfc2row7_col1\" class=\"data row7 col1\" >49</td>\n                        <td id=\"T_a69a6864_eec6_11ea_91a9_38f9d36abfc2row7_col2\" class=\"data row7 col2\" >49</td>\n            </tr>\n            <tr>\n                                <td id=\"T_a69a6864_eec6_11ea_91a9_38f9d36abfc2row8_col0\" class=\"data row8 col0\" >30</td>\n                        <td id=\"T_a69a6864_eec6_11ea_91a9_38f9d36abfc2row8_col1\" class=\"data row8 col1\" >30</td>\n                        <td id=\"T_a69a6864_eec6_11ea_91a9_38f9d36abfc2row8_col2\" class=\"data row8 col2\" >30</td>\n            </tr>\n            <tr>\n                                <td id=\"T_a69a6864_eec6_11ea_91a9_38f9d36abfc2row9_col0\" class=\"data row9 col0\" >39</td>\n                        <td id=\"T_a69a6864_eec6_11ea_91a9_38f9d36abfc2row9_col1\" class=\"data row9 col1\" >39</td>\n                        <td id=\"T_a69a6864_eec6_11ea_91a9_38f9d36abfc2row9_col2\" class=\"data row9 col2\" >39</td>\n            </tr>\n    </tbody></table>"
     },
     "metadata": {},
     "execution_count": 8
    }
   ],
   "source": [
    "print('\\n10 Menos parecidoss')\n",
    "metricas.drop(columns=['Jaccard','Dice','Pearson']).tail(10).style.hide_index()"
   ]
  },
  {
   "cell_type": "markdown",
   "metadata": {},
   "source": [
    "# Punto 9"
   ]
  },
  {
   "cell_type": "code",
   "execution_count": 9,
   "metadata": {},
   "outputs": [],
   "source": [
    "df9 = df.drop(columns = [0, 'media_binaria', 'media'])"
   ]
  },
  {
   "cell_type": "code",
   "execution_count": 10,
   "metadata": {},
   "outputs": [],
   "source": [
    "df9_binaria = df9.applymap(lambda x: 1 if x >= 0 else 0)\n",
    "df9_binaria['Fecha'] = df[0]"
   ]
  },
  {
   "cell_type": "code",
   "execution_count": 11,
   "metadata": {},
   "outputs": [],
   "source": [
    "df9_binaria.head(3)\n",
    "filas, columnas = df9_binaria.shape"
   ]
  },
  {
   "cell_type": "code",
   "execution_count": 12,
   "metadata": {
    "tags": []
   },
   "outputs": [],
   "source": [
    "metricas9 = {}\n",
    "mediana = np.inf\n",
    "indexMediana = 0\n",
    "for i in range(0,filas):\n",
    "    for j in range(0,filas):\n",
    "        if(i==j): continue\n",
    "        jaccard  = distance.jaccard(df9_binaria.iloc[i],df9_binaria.iloc[j])\n",
    "        if(mediana > jaccard):\n",
    "            mediana = jaccard\n",
    "            indexMediana = i"
   ]
  },
  {
   "cell_type": "code",
   "execution_count": 13,
   "metadata": {},
   "outputs": [],
   "source": [
    "d = []\n",
    "for i in range (0, filas):\n",
    "    jaccard  = distance.jaccard(df9_binaria.iloc[i],df9_binaria.iloc[indexMediana])\n",
    "    d.append(jaccard)"
   ]
  },
  {
   "cell_type": "code",
   "execution_count": 14,
   "metadata": {},
   "outputs": [
    {
     "output_type": "display_data",
     "data": {
      "text/plain": "<Figure size 432x288 with 1 Axes>",
      "image/svg+xml": "<?xml version=\"1.0\" encoding=\"utf-8\" standalone=\"no\"?>\n<!DOCTYPE svg PUBLIC \"-//W3C//DTD SVG 1.1//EN\"\n  \"http://www.w3.org/Graphics/SVG/1.1/DTD/svg11.dtd\">\n<!-- Created with matplotlib (https://matplotlib.org/) -->\n<svg height=\"248.518125pt\" version=\"1.1\" viewBox=\"0 0 372.103125 248.518125\" width=\"372.103125pt\" xmlns=\"http://www.w3.org/2000/svg\" xmlns:xlink=\"http://www.w3.org/1999/xlink\">\n <defs>\n  <style type=\"text/css\">\n*{stroke-linecap:butt;stroke-linejoin:round;white-space:pre;}\n  </style>\n </defs>\n <g id=\"figure_1\">\n  <g id=\"patch_1\">\n   <path d=\"M 0 248.518125 \nL 372.103125 248.518125 \nL 372.103125 0 \nL 0 0 \nz\n\" style=\"fill:none;\"/>\n  </g>\n  <g id=\"axes_1\">\n   <g id=\"patch_2\">\n    <path d=\"M 30.103125 224.64 \nL 364.903125 224.64 \nL 364.903125 7.2 \nL 30.103125 7.2 \nz\n\" style=\"fill:#ffffff;\"/>\n   </g>\n   <g id=\"matplotlib.axis_1\">\n    <g id=\"xtick_1\">\n     <g id=\"line2d_1\">\n      <defs>\n       <path d=\"M 0 0 \nL 0 3.5 \n\" id=\"m81a6c96231\" style=\"stroke:#000000;stroke-width:0.8;\"/>\n      </defs>\n      <g>\n       <use style=\"stroke:#000000;stroke-width:0.8;\" x=\"197.503125\" xlink:href=\"#m81a6c96231\" y=\"224.64\"/>\n      </g>\n     </g>\n     <g id=\"text_1\">\n      <!-- 1 -->\n      <defs>\n       <path d=\"M 12.40625 8.296875 \nL 28.515625 8.296875 \nL 28.515625 63.921875 \nL 10.984375 60.40625 \nL 10.984375 69.390625 \nL 28.421875 72.90625 \nL 38.28125 72.90625 \nL 38.28125 8.296875 \nL 54.390625 8.296875 \nL 54.390625 0 \nL 12.40625 0 \nz\n\" id=\"DejaVuSans-49\"/>\n      </defs>\n      <g transform=\"translate(194.321875 239.238437)scale(0.1 -0.1)\">\n       <use xlink:href=\"#DejaVuSans-49\"/>\n      </g>\n     </g>\n    </g>\n   </g>\n   <g id=\"matplotlib.axis_2\">\n    <g id=\"ytick_1\">\n     <g id=\"line2d_2\">\n      <defs>\n       <path d=\"M 0 0 \nL -3.5 0 \n\" id=\"m8f12154a58\" style=\"stroke:#000000;stroke-width:0.8;\"/>\n      </defs>\n      <g>\n       <use style=\"stroke:#000000;stroke-width:0.8;\" x=\"30.103125\" xlink:href=\"#m8f12154a58\" y=\"214.756364\"/>\n      </g>\n     </g>\n     <g id=\"text_2\">\n      <!-- 0.0 -->\n      <defs>\n       <path d=\"M 31.78125 66.40625 \nQ 24.171875 66.40625 20.328125 58.90625 \nQ 16.5 51.421875 16.5 36.375 \nQ 16.5 21.390625 20.328125 13.890625 \nQ 24.171875 6.390625 31.78125 6.390625 \nQ 39.453125 6.390625 43.28125 13.890625 \nQ 47.125 21.390625 47.125 36.375 \nQ 47.125 51.421875 43.28125 58.90625 \nQ 39.453125 66.40625 31.78125 66.40625 \nz\nM 31.78125 74.21875 \nQ 44.046875 74.21875 50.515625 64.515625 \nQ 56.984375 54.828125 56.984375 36.375 \nQ 56.984375 17.96875 50.515625 8.265625 \nQ 44.046875 -1.421875 31.78125 -1.421875 \nQ 19.53125 -1.421875 13.0625 8.265625 \nQ 6.59375 17.96875 6.59375 36.375 \nQ 6.59375 54.828125 13.0625 64.515625 \nQ 19.53125 74.21875 31.78125 74.21875 \nz\n\" id=\"DejaVuSans-48\"/>\n       <path d=\"M 10.6875 12.40625 \nL 21 12.40625 \nL 21 0 \nL 10.6875 0 \nz\n\" id=\"DejaVuSans-46\"/>\n      </defs>\n      <g transform=\"translate(7.2 218.555582)scale(0.1 -0.1)\">\n       <use xlink:href=\"#DejaVuSans-48\"/>\n       <use x=\"63.623047\" xlink:href=\"#DejaVuSans-46\"/>\n       <use x=\"95.410156\" xlink:href=\"#DejaVuSans-48\"/>\n      </g>\n     </g>\n    </g>\n    <g id=\"ytick_2\">\n     <g id=\"line2d_3\">\n      <g>\n       <use style=\"stroke:#000000;stroke-width:0.8;\" x=\"30.103125\" xlink:href=\"#m8f12154a58\" y=\"175.221818\"/>\n      </g>\n     </g>\n     <g id=\"text_3\">\n      <!-- 0.2 -->\n      <defs>\n       <path d=\"M 19.1875 8.296875 \nL 53.609375 8.296875 \nL 53.609375 0 \nL 7.328125 0 \nL 7.328125 8.296875 \nQ 12.9375 14.109375 22.625 23.890625 \nQ 32.328125 33.6875 34.8125 36.53125 \nQ 39.546875 41.84375 41.421875 45.53125 \nQ 43.3125 49.21875 43.3125 52.78125 \nQ 43.3125 58.59375 39.234375 62.25 \nQ 35.15625 65.921875 28.609375 65.921875 \nQ 23.96875 65.921875 18.8125 64.3125 \nQ 13.671875 62.703125 7.8125 59.421875 \nL 7.8125 69.390625 \nQ 13.765625 71.78125 18.9375 73 \nQ 24.125 74.21875 28.421875 74.21875 \nQ 39.75 74.21875 46.484375 68.546875 \nQ 53.21875 62.890625 53.21875 53.421875 \nQ 53.21875 48.921875 51.53125 44.890625 \nQ 49.859375 40.875 45.40625 35.40625 \nQ 44.1875 33.984375 37.640625 27.21875 \nQ 31.109375 20.453125 19.1875 8.296875 \nz\n\" id=\"DejaVuSans-50\"/>\n      </defs>\n      <g transform=\"translate(7.2 179.021037)scale(0.1 -0.1)\">\n       <use xlink:href=\"#DejaVuSans-48\"/>\n       <use x=\"63.623047\" xlink:href=\"#DejaVuSans-46\"/>\n       <use x=\"95.410156\" xlink:href=\"#DejaVuSans-50\"/>\n      </g>\n     </g>\n    </g>\n    <g id=\"ytick_3\">\n     <g id=\"line2d_4\">\n      <g>\n       <use style=\"stroke:#000000;stroke-width:0.8;\" x=\"30.103125\" xlink:href=\"#m8f12154a58\" y=\"135.687273\"/>\n      </g>\n     </g>\n     <g id=\"text_4\">\n      <!-- 0.4 -->\n      <defs>\n       <path d=\"M 37.796875 64.3125 \nL 12.890625 25.390625 \nL 37.796875 25.390625 \nz\nM 35.203125 72.90625 \nL 47.609375 72.90625 \nL 47.609375 25.390625 \nL 58.015625 25.390625 \nL 58.015625 17.1875 \nL 47.609375 17.1875 \nL 47.609375 0 \nL 37.796875 0 \nL 37.796875 17.1875 \nL 4.890625 17.1875 \nL 4.890625 26.703125 \nz\n\" id=\"DejaVuSans-52\"/>\n      </defs>\n      <g transform=\"translate(7.2 139.486491)scale(0.1 -0.1)\">\n       <use xlink:href=\"#DejaVuSans-48\"/>\n       <use x=\"63.623047\" xlink:href=\"#DejaVuSans-46\"/>\n       <use x=\"95.410156\" xlink:href=\"#DejaVuSans-52\"/>\n      </g>\n     </g>\n    </g>\n    <g id=\"ytick_4\">\n     <g id=\"line2d_5\">\n      <g>\n       <use style=\"stroke:#000000;stroke-width:0.8;\" x=\"30.103125\" xlink:href=\"#m8f12154a58\" y=\"96.152727\"/>\n      </g>\n     </g>\n     <g id=\"text_5\">\n      <!-- 0.6 -->\n      <defs>\n       <path d=\"M 33.015625 40.375 \nQ 26.375 40.375 22.484375 35.828125 \nQ 18.609375 31.296875 18.609375 23.390625 \nQ 18.609375 15.53125 22.484375 10.953125 \nQ 26.375 6.390625 33.015625 6.390625 \nQ 39.65625 6.390625 43.53125 10.953125 \nQ 47.40625 15.53125 47.40625 23.390625 \nQ 47.40625 31.296875 43.53125 35.828125 \nQ 39.65625 40.375 33.015625 40.375 \nz\nM 52.59375 71.296875 \nL 52.59375 62.3125 \nQ 48.875 64.0625 45.09375 64.984375 \nQ 41.3125 65.921875 37.59375 65.921875 \nQ 27.828125 65.921875 22.671875 59.328125 \nQ 17.53125 52.734375 16.796875 39.40625 \nQ 19.671875 43.65625 24.015625 45.921875 \nQ 28.375 48.1875 33.59375 48.1875 \nQ 44.578125 48.1875 50.953125 41.515625 \nQ 57.328125 34.859375 57.328125 23.390625 \nQ 57.328125 12.15625 50.6875 5.359375 \nQ 44.046875 -1.421875 33.015625 -1.421875 \nQ 20.359375 -1.421875 13.671875 8.265625 \nQ 6.984375 17.96875 6.984375 36.375 \nQ 6.984375 53.65625 15.1875 63.9375 \nQ 23.390625 74.21875 37.203125 74.21875 \nQ 40.921875 74.21875 44.703125 73.484375 \nQ 48.484375 72.75 52.59375 71.296875 \nz\n\" id=\"DejaVuSans-54\"/>\n      </defs>\n      <g transform=\"translate(7.2 99.951946)scale(0.1 -0.1)\">\n       <use xlink:href=\"#DejaVuSans-48\"/>\n       <use x=\"63.623047\" xlink:href=\"#DejaVuSans-46\"/>\n       <use x=\"95.410156\" xlink:href=\"#DejaVuSans-54\"/>\n      </g>\n     </g>\n    </g>\n    <g id=\"ytick_5\">\n     <g id=\"line2d_6\">\n      <g>\n       <use style=\"stroke:#000000;stroke-width:0.8;\" x=\"30.103125\" xlink:href=\"#m8f12154a58\" y=\"56.618182\"/>\n      </g>\n     </g>\n     <g id=\"text_6\">\n      <!-- 0.8 -->\n      <defs>\n       <path d=\"M 31.78125 34.625 \nQ 24.75 34.625 20.71875 30.859375 \nQ 16.703125 27.09375 16.703125 20.515625 \nQ 16.703125 13.921875 20.71875 10.15625 \nQ 24.75 6.390625 31.78125 6.390625 \nQ 38.8125 6.390625 42.859375 10.171875 \nQ 46.921875 13.96875 46.921875 20.515625 \nQ 46.921875 27.09375 42.890625 30.859375 \nQ 38.875 34.625 31.78125 34.625 \nz\nM 21.921875 38.8125 \nQ 15.578125 40.375 12.03125 44.71875 \nQ 8.5 49.078125 8.5 55.328125 \nQ 8.5 64.0625 14.71875 69.140625 \nQ 20.953125 74.21875 31.78125 74.21875 \nQ 42.671875 74.21875 48.875 69.140625 \nQ 55.078125 64.0625 55.078125 55.328125 \nQ 55.078125 49.078125 51.53125 44.71875 \nQ 48 40.375 41.703125 38.8125 \nQ 48.828125 37.15625 52.796875 32.3125 \nQ 56.78125 27.484375 56.78125 20.515625 \nQ 56.78125 9.90625 50.3125 4.234375 \nQ 43.84375 -1.421875 31.78125 -1.421875 \nQ 19.734375 -1.421875 13.25 4.234375 \nQ 6.78125 9.90625 6.78125 20.515625 \nQ 6.78125 27.484375 10.78125 32.3125 \nQ 14.796875 37.15625 21.921875 38.8125 \nz\nM 18.3125 54.390625 \nQ 18.3125 48.734375 21.84375 45.5625 \nQ 25.390625 42.390625 31.78125 42.390625 \nQ 38.140625 42.390625 41.71875 45.5625 \nQ 45.3125 48.734375 45.3125 54.390625 \nQ 45.3125 60.0625 41.71875 63.234375 \nQ 38.140625 66.40625 31.78125 66.40625 \nQ 25.390625 66.40625 21.84375 63.234375 \nQ 18.3125 60.0625 18.3125 54.390625 \nz\n\" id=\"DejaVuSans-56\"/>\n      </defs>\n      <g transform=\"translate(7.2 60.417401)scale(0.1 -0.1)\">\n       <use xlink:href=\"#DejaVuSans-48\"/>\n       <use x=\"63.623047\" xlink:href=\"#DejaVuSans-46\"/>\n       <use x=\"95.410156\" xlink:href=\"#DejaVuSans-56\"/>\n      </g>\n     </g>\n    </g>\n    <g id=\"ytick_6\">\n     <g id=\"line2d_7\">\n      <g>\n       <use style=\"stroke:#000000;stroke-width:0.8;\" x=\"30.103125\" xlink:href=\"#m8f12154a58\" y=\"17.083636\"/>\n      </g>\n     </g>\n     <g id=\"text_7\">\n      <!-- 1.0 -->\n      <g transform=\"translate(7.2 20.882855)scale(0.1 -0.1)\">\n       <use xlink:href=\"#DejaVuSans-49\"/>\n       <use x=\"63.623047\" xlink:href=\"#DejaVuSans-46\"/>\n       <use x=\"95.410156\" xlink:href=\"#DejaVuSans-48\"/>\n      </g>\n     </g>\n    </g>\n   </g>\n   <g id=\"line2d_8\">\n    <path clip-path=\"url(#pfc98f45f58)\" d=\"M 172.393125 204.970585 \nL 222.613125 204.970585 \nL 222.613125 62.098218 \nL 172.393125 62.098218 \nL 172.393125 204.970585 \n\" style=\"fill:none;stroke:#000000;stroke-linecap:square;\"/>\n   </g>\n   <g id=\"line2d_9\">\n    <path clip-path=\"url(#pfc98f45f58)\" d=\"M 197.503125 204.970585 \nL 197.503125 214.756364 \n\" style=\"fill:none;stroke:#000000;stroke-linecap:square;\"/>\n   </g>\n   <g id=\"line2d_10\">\n    <path clip-path=\"url(#pfc98f45f58)\" d=\"M 197.503125 62.098218 \nL 197.503125 17.083636 \n\" style=\"fill:none;stroke:#000000;stroke-linecap:square;\"/>\n   </g>\n   <g id=\"line2d_11\">\n    <path clip-path=\"url(#pfc98f45f58)\" d=\"M 184.948125 214.756364 \nL 210.058125 214.756364 \n\" style=\"fill:none;stroke:#000000;stroke-linecap:square;\"/>\n   </g>\n   <g id=\"line2d_12\">\n    <path clip-path=\"url(#pfc98f45f58)\" d=\"M 184.948125 17.083636 \nL 210.058125 17.083636 \n\" style=\"fill:none;stroke:#000000;stroke-linecap:square;\"/>\n   </g>\n   <g id=\"line2d_13\"/>\n   <g id=\"line2d_14\">\n    <path clip-path=\"url(#pfc98f45f58)\" d=\"M 172.393125 159.956004 \nL 222.613125 159.956004 \n\" style=\"fill:none;stroke:#ff7f0e;stroke-linecap:square;\"/>\n   </g>\n   <g id=\"patch_3\">\n    <path d=\"M 30.103125 224.64 \nL 30.103125 7.2 \n\" style=\"fill:none;stroke:#000000;stroke-linecap:square;stroke-linejoin:miter;stroke-width:0.8;\"/>\n   </g>\n   <g id=\"patch_4\">\n    <path d=\"M 364.903125 224.64 \nL 364.903125 7.2 \n\" style=\"fill:none;stroke:#000000;stroke-linecap:square;stroke-linejoin:miter;stroke-width:0.8;\"/>\n   </g>\n   <g id=\"patch_5\">\n    <path d=\"M 30.103125 224.64 \nL 364.903125 224.64 \n\" style=\"fill:none;stroke:#000000;stroke-linecap:square;stroke-linejoin:miter;stroke-width:0.8;\"/>\n   </g>\n   <g id=\"patch_6\">\n    <path d=\"M 30.103125 7.2 \nL 364.903125 7.2 \n\" style=\"fill:none;stroke:#000000;stroke-linecap:square;stroke-linejoin:miter;stroke-width:0.8;\"/>\n   </g>\n  </g>\n </g>\n <defs>\n  <clipPath id=\"pfc98f45f58\">\n   <rect height=\"217.44\" width=\"334.8\" x=\"30.103125\" y=\"7.2\"/>\n  </clipPath>\n </defs>\n</svg>\n",
      "image/png": "[encoded data removed]"
     },
     "metadata": {
      "needs_background": "light"
     }
    }
   ],
   "source": [
    "plt.boxplot(d)\n",
    "plt.show()"
   ]
  },
  {
   "cell_type": "code",
   "execution_count": 15,
   "metadata": {},
   "outputs": [],
   "source": [
    "p10 = np.percentile(d, 10, interpolation='linear')\n",
    "I = np.argwhere(d < p10) #Retorna los indices"
   ]
  },
  {
   "cell_type": "code",
   "execution_count": 16,
   "metadata": {},
   "outputs": [
    {
     "output_type": "execute_result",
     "data": {
      "text/plain": "18     196501\n42     196701\n57     196804\n62     196809\n75     196910\n101    197112\n120    197307\n135    197410\n138    197501\n141    197504\n150    197601\n161    197612\n172    197711\n177    197804\n186    197901\n188    197903\n193    197908\n196    197911\n225    198204\n229    198208\n231    198210\n232    198211\n253    198408\n258    198501\n268    198511\n274    198605\n282    198701\n295    198802\n312    198907\n322    199005\n        ...  \n331    199102\n361    199308\n373    199408\n406    199705\n407    199706\n410    199709\n415    199802\n460    200111\n472    200211\n477    200304\n502    200505\n526    200705\n548    200903\n549    200904\n552    200907\n560    201003\n564    201007\n566    201009\n569    201012\n579    201110\n582    201201\n600    201307\n602    201309\n607    201402\n613    201408\n619    201502\n627    201510\n632    201603\n636    201607\n666    201901\nName: 0, Length: 61, dtype: int64"
     },
     "metadata": {},
     "execution_count": 16
    }
   ],
   "source": [
    "df[0].ix[I[:,0]]"
   ]
  }
 ],
 "metadata": {
  "kernelspec": {
   "display_name": "Python 3",
   "language": "python",
   "name": "python3"
  },
  "language_info": {
   "codemirror_mode": {
    "name": "ipython",
    "version": 3
   },
   "file_extension": ".py",
   "mimetype": "text/x-python",
   "name": "python",
   "nbconvert_exporter": "python",
   "pygments_lexer": "ipython3",
   "version": "3.7.5-final"
  }
 },
 "nbformat": 4,
 "nbformat_minor": 2
}