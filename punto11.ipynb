{
 "cells": [
  {
   "cell_type": "markdown",
   "metadata": {},
   "source": [
    "## Punto 11"
   ]
  },
  {
   "cell_type": "code",
   "execution_count": 1,
   "metadata": {},
   "outputs": [],
   "source": [
    "from skimage.transform import resize\n",
    "from skimage import io\n",
    "from skimage.color import rgb2gray\n",
    "import matplotlib.pyplot as plt\n",
    "import os\n",
    "import numpy as np\n",
    "from numpy import linalg as LA"
   ]
  },
  {
   "cell_type": "code",
   "execution_count": 2,
   "metadata": {},
   "outputs": [],
   "source": [
    "path = os.listdir('imagenes')\n",
    "imagenes = {}\n",
    "for file in path:\n",
    "    if file =='.DS_Store' or file == 'fondo.JPG':\n",
    "        continue\n",
    "    img = io.imread('imagenes/'+file,as_gray=True)\n",
    "    imagenes[file[:2]] = resize(img, (700, 500), anti_aliasing=True)"
   ]
  },
  {
   "cell_type": "code",
   "execution_count": 3,
   "metadata": {},
   "outputs": [],
   "source": [
    "norm1 = {}\n",
    "norm2 = {}\n",
    "normInf = {}\n",
    "normFro = {}\n",
    "for ki,vi in imagenes.items():\n",
    "    for kj, vj in imagenes.items():\n",
    "        if ki == kj: continue\n",
    "        norm1[f'{ki}_{kj}'] = LA.norm( vi - vj,1)\n",
    "        norm2[f'{ki}_{kj}'] = LA.norm(vi - vj,2)\n",
    "        normInf[f'{ki}_{kj}'] = LA.norm(vi - vj, np.inf)\n",
    "        normFro[f'{ki}_{kj}'] =  LA.norm(vi - vj, 'fro')"
   ]
  },
  {
   "cell_type": "code",
   "execution_count": 4,
   "metadata": {},
   "outputs": [],
   "source": [
    "def promedios(norm2,normInf,normFro,norm1,individuo):\n",
    "    acumN2 = 0\n",
    "    acumN1 = 0\n",
    "    acumNInf = 0\n",
    "    acumNFro = 0\n",
    "    for key in norm2.keys():\n",
    "        if key.startswith(individuo):\n",
    "            acumN2 += norm2[key]\n",
    "            acumN1 += norm1[key]\n",
    "            acumNInf += normInf[key]\n",
    "            acumNFro += normFro[key]\n",
    "            \n",
    "    promN2 = acumN2/64\n",
    "    promN1 = acumN1/64\n",
    "    promNInf = acumNInf/64\n",
    "    promNFro = acumNFro/64\n",
    "    \n",
    "    return promN2, promN1, promNInf, promNFro   \n",
    "\n",
    "C = promedios(norm2,normInf,normFro,norm1,'C')\n",
    "N = promedios(norm2,normInf,normFro,norm1,'N')\n",
    "D = promedios(norm2,normInf,normFro,norm1,'D')\n",
    "A = promedios(norm2,normInf,normFro,norm1,'A')"
   ]
  },
  {
   "cell_type": "code",
   "execution_count": 5,
   "metadata": {
    "scrolled": true,
    "tags": []
   },
   "outputs": [
    {
     "name": "stdout",
     "output_type": "stream",
     "text": [
      "(321.2039789109334, 677.0269494490555, 501.6372285616296, 433.10515409612)\n",
      "(244.59649154206318, 545.8869916857861, 392.2887480624117, 341.56458963447113)\n",
      "(256.11967890297063, 559.3944181290431, 418.45193240968956, 355.4912507869443)\n",
      "(369.13011340801927, 729.3469593736455, 564.5816741780254, 474.75459867906125)\n"
     ]
    }
   ],
   "source": [
    "print(C)\n",
    "print(N)\n",
    "print(D)\n",
    "print(A)"
   ]
  },
  {
   "cell_type": "code",
   "execution_count": 6,
   "metadata": {
    "tags": []
   },
   "outputs": [
    {
     "name": "stdout",
     "output_type": "stream",
     "text": [
      "El mas tipico segun la norma 1:  1\n",
      "El mas tipico segun la norma 2:  1\n",
      "El mas tipico segun la norma Infinita:  1\n",
      "El mas tipico segun la norma Frobenius:  1\n"
     ]
    }
   ],
   "source": [
    "print(\"El mas tipico segun la norma 1: \",[C[1],N[1],D[1],A[1]].index(min(C[1],N[1],D[1],A[1])))\n",
    "print(\"El mas tipico segun la norma 2: \",[C[0],N[0],D[0],A[0]].index(min(C[0],N[0],D[0],A[0])))\n",
    "print(\"El mas tipico segun la norma Infinita: \",[C[2],N[2],D[2],A[2]].index(min(C[2],N[2],D[2],A[2])))\n",
    "print(\"El mas tipico segun la norma Frobenius: \",[C[3],N[3],D[3],A[3]].index(min(C[3],N[3],D[3],A[3])))"
   ]
  }
 ],
 "metadata": {
  "kernelspec": {
   "display_name": "Python 3",
   "language": "python",
   "name": "python3"
  },
  "language_info": {
   "codemirror_mode": {
    "name": "ipython",
    "version": 3
   },
   "file_extension": ".py",
   "mimetype": "text/x-python",
   "name": "python",
   "nbconvert_exporter": "python",
   "pygments_lexer": "ipython3",
   "version": "3.7.4"
  }
 },
 "nbformat": 4,
 "nbformat_minor": 2
}
